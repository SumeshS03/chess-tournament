{
  "cells": [
    {
      "cell_type": "code",
      "execution_count": 1,
      "metadata": {
        "colab": {
          "base_uri": "https://localhost:8080/"
        },
        "id": "oBLYDWLsnikY",
        "outputId": "2ea915a8-4add-4b24-91d6-bbe0e37c1143"
      },
      "outputs": [
        {
          "name": "stdout",
          "output_type": "stream",
          "text": [
            "Requirement already satisfied: chess in c:\\users\\ssume_uwaou4b\\appdata\\local\\programs\\python\\python311\\lib\\site-packages (1.10.0)\n"
          ]
        },
        {
          "name": "stderr",
          "output_type": "stream",
          "text": [
            "\n",
            "[notice] A new release of pip is available: 23.2.1 -> 24.2\n",
            "[notice] To update, run: python.exe -m pip install --upgrade pip\n"
          ]
        }
      ],
      "source": [
        "!pip install chess"
      ]
    },
    {
      "cell_type": "code",
      "execution_count": 2,
      "metadata": {
        "id": "v25Y4FN6n5LQ"
      },
      "outputs": [],
      "source": [
        "import chess\n",
        "import chess.pgn"
      ]
    },
    {
      "cell_type": "code",
      "execution_count": 3,
      "metadata": {
        "id": "tlnWCmmkol0d"
      },
      "outputs": [],
      "source": [
        "def read_pgn_file(file_path):\n",
        "    games = []\n",
        "    with open(file_path, 'r') as file:\n",
        "        pgn = chess.pgn.read_game(file)\n",
        "        while pgn is not None:\n",
        "            games.append(pgn)\n",
        "            pgn = chess.pgn.read_game(file)\n",
        "    return games"
      ]
    },
    {
      "cell_type": "code",
      "execution_count": 4,
      "metadata": {
        "id": "TZoZJet3pDrN"
      },
      "outputs": [],
      "source": [
        "\n",
        "file_path = \"C:\\\\Users\\\\ssume_uwaou4b\\\\Downloads\\\\lichess_db_standard_rated_2013-01.pgn\"\n",
        "games  = read_pgn_file(file_path)"
      ]
    },
    {
      "cell_type": "code",
      "execution_count": 5,
      "metadata": {
        "colab": {
          "base_uri": "https://localhost:8080/"
        },
        "id": "rPoJy2z_pJXd",
        "outputId": "87bc3894-0281-48e1-e1df-46d46f4c49a2"
      },
      "outputs": [
        {
          "name": "stdout",
          "output_type": "stream",
          "text": [
            "Total number of games: 121332\n"
          ]
        }
      ],
      "source": [
        "print(\n",
        "    \"Total number of games:\",\n",
        "    len(games)\n",
        ")\n"
      ]
    },
    {
      "cell_type": "code",
      "execution_count": 6,
      "metadata": {
        "id": "eMHiY3YCpgr8"
      },
      "outputs": [],
      "source": [
        "tournament_games = []\n",
        "non_tournament_games = []\n",
        "for game in games:\n",
        "    if \"tournament\" in game.headers.get(\"Event\").lower():\n",
        "        tournament_games.append(game)\n",
        "    else:\n",
        "        non_tournament_games.append(game)"
      ]
    },
    {
      "cell_type": "code",
      "execution_count": 7,
      "metadata": {
        "colab": {
          "base_uri": "https://localhost:8080/"
        },
        "id": "NmJDcOy12Mmb",
        "outputId": "4c18dc74-2c55-4df8-81d7-d781ef2f2e51"
      },
      "outputs": [
        {
          "data": {
            "text/plain": [
              "1215"
            ]
          },
          "execution_count": 7,
          "metadata": {},
          "output_type": "execute_result"
        }
      ],
      "source": [
        "len(tournament_games)"
      ]
    },
    {
      "cell_type": "code",
      "execution_count": 8,
      "metadata": {
        "colab": {
          "base_uri": "https://localhost:8080/"
        },
        "id": "9G2PH7Rt7_YZ",
        "outputId": "9c668094-c556-4f8e-9175-f980029e54d6"
      },
      "outputs": [
        {
          "data": {
            "text/plain": [
              "120117"
            ]
          },
          "execution_count": 8,
          "metadata": {},
          "output_type": "execute_result"
        }
      ],
      "source": [
        "len(non_tournament_games)"
      ]
    }
  ],
  "metadata": {
    "accelerator": "GPU",
    "colab": {
      "gpuType": "T4",
      "provenance": []
    },
    "kernelspec": {
      "display_name": "Python 3",
      "name": "python3"
    },
    "language_info": {
      "codemirror_mode": {
        "name": "ipython",
        "version": 3
      },
      "file_extension": ".py",
      "mimetype": "text/x-python",
      "name": "python",
      "nbconvert_exporter": "python",
      "pygments_lexer": "ipython3",
      "version": "3.11.5"
    }
  },
  "nbformat": 4,
  "nbformat_minor": 0
}
